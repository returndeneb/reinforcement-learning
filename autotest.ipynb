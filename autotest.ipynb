{
 "cells": [
  {
   "cell_type": "code",
   "execution_count": null,
   "id": "757f5520",
   "metadata": {},
   "outputs": [
    {
     "name": "stdout",
     "output_type": "stream",
     "text": [
      "Pydoll 브라우저를 시작하여 접속합니다...\n",
      "접속 완료. 목표 시간까지 대기합니다.\n",
      "'pool.ntp.org'에서 표준 시간 동기화를 시도합니다...\n",
      "성공: 로컬 시간과 표준 시간의 오차는 약 -2.2960초 입니다.\n",
      "새로고침 목표 시간: 2025-06-27 13:59:59\n"
     ]
    },
    {
     "name": "stderr",
     "output_type": "stream",
     "text": [
      "새로고침까지 대기 중...: 100%|██████████| 399/399 [06:39<00:00,  1.00s/it, 남은 시간: 0.00초]  \n"
     ]
    },
    {
     "name": "stdout",
     "output_type": "stream",
     "text": [
      "\n",
      "목표 시간이 되었습니다! 페이지를 새로고침합니다.\n",
      "페이지를 새로고침했습니다.\n",
      "작업 완료. 브라우저를 닫으려면 터미널에서 Enter 키를 누르세요...\n"
     ]
    }
   ],
   "source": [
    "import asyncio\n",
    "import datetime\n",
    "import ntplib\n",
    "import socket\n",
    "from tqdm import tqdm\n",
    "\n",
    "from pydoll.browser import Chrome\n",
    "\n",
    "# --- NTP 시간 동기화 함수 ---\n",
    "async def get_time_offset(ntp_server='pool.ntp.org'):\n",
    "    \"\"\"NTP 서버와 로컬 시간의 오차를 초 단위로 반환합니다.\"\"\"\n",
    "    print(f\"'{ntp_server}'에서 표준 시간 동기화를 시도합니다...\")\n",
    "    try:\n",
    "        def request_ntp_time():\n",
    "            ntp_client = ntplib.NTPClient()\n",
    "            return ntp_client.request(ntp_server, version=3)\n",
    "        response = await asyncio.to_thread(request_ntp_time)\n",
    "        offset = response.offset\n",
    "        print(f\"성공: 로컬 시간과 표준 시간의 오차는 약 {offset:.4f}초 입니다.\")\n",
    "        return offset\n",
    "    except (socket.gaierror, ntplib.NTPException) as e:\n",
    "        print(f\"경고: NTP 서버에 연결할 수 없습니다. 로컬 시간을 기준으로 동작합니다. 오류: {e}\")\n",
    "        return 0\n",
    "\n",
    "# --- 메인 스크립트 ---\n",
    "async def timed_refresh_example():\n",
    "    print(\"Pydoll 브라우저를 시작하여 접속합니다...\")\n",
    "    async with Chrome() as browser:\n",
    "        tab = await browser.start()\n",
    "        await tab.go_to('https://ticket.interpark.com/Contents/Sports/GoodsInfo?SportsCode=07006&TeamCode=PF005')\n",
    "        print(\"접속 완료. 목표 시간까지 대기합니다.\")\n",
    "\n",
    "        time_offset = await get_time_offset()\n",
    "        offset_delta = datetime.timedelta(seconds=time_offset)\n",
    "\n",
    "        base_target_time = datetime.datetime.now().replace(hour=14, minute=00, second=0, microsecond=0)\n",
    "        \n",
    "        # 2. 10 밀리초(ms) 먼저 실행하도록 시간 조정\n",
    "        adjustment = datetime.timedelta(milliseconds=10)\n",
    "        target_time = base_target_time - adjustment\n",
    "        print(f\"새로고침 목표 시간: {target_time.strftime('%Y-%m-%d %H:%M:%S')}\")\n",
    "        \n",
    "        initial_seconds_left = (target_time - (datetime.datetime.now() + offset_delta)).total_seconds()\n",
    "        \n",
    "        if initial_seconds_left > 0:\n",
    "            with tqdm(total=int(initial_seconds_left), desc=\"새로고침까지 대기 중...\") as pbar:\n",
    "                while True:\n",
    "                    corrected_now = datetime.datetime.now() + offset_delta\n",
    "                    \n",
    "                    if corrected_now >= target_time:\n",
    "                        pbar.n = pbar.total\n",
    "                        pbar.refresh()\n",
    "                        break\n",
    "\n",
    "                    seconds_left = (target_time - corrected_now).total_seconds()\n",
    "                    \n",
    "                    pbar.n = pbar.total - int(seconds_left)\n",
    "                    pbar.set_postfix_str(f\"남은 시간: {seconds_left:.2f}초\")\n",
    "                    pbar.refresh()\n",
    "                    \n",
    "                    await asyncio.sleep(0.01)\n",
    "\n",
    "        print(\"\\n목표 시간이 되었습니다! 페이지를 새로고침합니다.\")\n",
    "        # --- 여기가 최종 수정된 부분 ---\n",
    "        # pydoll Tab 객체의 내장 함수인 refresh()를 사용합니다.\n",
    "        await tab.refresh()\n",
    "        print(\"페이지를 새로고침했습니다.\")\n",
    "\n",
    "        print(\"작업 완료. 브라우저를 닫으려면 터미널에서 Enter 키를 누르세요...\")\n",
    "        await asyncio.to_thread(input)\n",
    "\n",
    "\n",
    "# --- 코루틴 실행 ---\n",
    "await timed_refresh_example()"
   ]
  }
 ],
 "metadata": {
  "kernelspec": {
   "display_name": "Python 3",
   "language": "python",
   "name": "python3"
  },
  "language_info": {
   "codemirror_mode": {
    "name": "ipython",
    "version": 3
   },
   "file_extension": ".py",
   "mimetype": "text/x-python",
   "name": "python",
   "nbconvert_exporter": "python",
   "pygments_lexer": "ipython3",
   "version": "3.11.9"
  }
 },
 "nbformat": 4,
 "nbformat_minor": 5
}
